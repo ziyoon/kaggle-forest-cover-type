{
 "cells": [
  {
   "cell_type": "code",
   "execution_count": 2,
   "metadata": {
    "executionInfo": {
     "elapsed": 535,
     "status": "ok",
     "timestamp": 1642323834252,
     "user": {
      "displayName": "Jiyoon Kim",
      "photoUrl": "https://lh3.googleusercontent.com/a/default-user=s64",
      "userId": "16007402657412234118"
     },
     "user_tz": -540
    },
    "id": "oI9GTuWptYSl"
   },
   "outputs": [],
   "source": [
    "import os\n",
    "import numpy as np\n",
    "import pandas as pd\n",
    "\n",
    "import matplotlib\n",
    "%matplotlib inline\n",
    "# matplotlib.rcParams['font.family'] = 'AppleGothic'#'Malgun Gothic'\n",
    "matplotlib.rcParams['axes.unicode_minus'] = False\n",
    "import matplotlib.pyplot as plt\n",
    "import seaborn as sb\n",
    "\n",
    "import missingno as msno"
   ]
  },
  {
   "cell_type": "code",
   "execution_count": 3,
   "metadata": {
    "colab": {
     "base_uri": "https://localhost:8080/"
    },
    "executionInfo": {
     "elapsed": 14201,
     "status": "ok",
     "timestamp": 1642323848451,
     "user": {
      "displayName": "Jiyoon Kim",
      "photoUrl": "https://lh3.googleusercontent.com/a/default-user=s64",
      "userId": "16007402657412234118"
     },
     "user_tz": -540
    },
    "id": "6JyhHbmLuZUr",
    "outputId": "879c197c-49ae-492b-d37d-8b49306c5492"
   },
   "outputs": [],
   "source": [
    "# from google.colab import drive\n",
    "# drive.mount('/content/drive')\n",
    "# BASE_DIR = '/content/drive/MyDrive/Kaggle/sat'"
   ]
  },
  {
   "cell_type": "code",
   "execution_count": 79,
   "metadata": {
    "executionInfo": {
     "elapsed": 4273,
     "status": "ok",
     "timestamp": 1642323852722,
     "user": {
      "displayName": "Jiyoon Kim",
      "photoUrl": "https://lh3.googleusercontent.com/a/default-user=s64",
      "userId": "16007402657412234118"
     },
     "user_tz": -540
    },
    "id": "k0S27BIBDw7m"
   },
   "outputs": [],
   "source": [
    "# BASE_DIR = 'C:/Users/TFG5076XG/Desktop/Kaggle/sat'\n",
    "BASE_DIR = '/Users/zzyy/bigdt/Kaggle'\n",
    "\n",
    "train_path = os.path.join(BASE_DIR, 'data', 'train.csv')\n",
    "test_path = os.path.join(BASE_DIR, 'data', 'test.csv')\n",
    "\n",
    "train = pd.read_csv(train_path)\n",
    "test = pd.read_csv(test_path)\n",
    "\n",
    "label = train['Cover_Type']"
   ]
  },
  {
   "cell_type": "code",
   "execution_count": null,
   "metadata": {},
   "outputs": [],
   "source": []
  },
  {
   "cell_type": "markdown",
   "metadata": {},
   "source": [
    "# EDA"
   ]
  },
  {
   "cell_type": "code",
   "execution_count": 40,
   "metadata": {
    "colab": {
     "base_uri": "https://localhost:8080/"
    },
    "executionInfo": {
     "elapsed": 15,
     "status": "ok",
     "timestamp": 1642323852722,
     "user": {
      "displayName": "Jiyoon Kim",
      "photoUrl": "https://lh3.googleusercontent.com/a/default-user=s64",
      "userId": "16007402657412234118"
     },
     "user_tz": -540
    },
    "id": "Afk4YGjv5UO4",
    "outputId": "83ca705f-c475-4087-e812-95975a00454a"
   },
   "outputs": [
    {
     "name": "stdout",
     "output_type": "stream",
     "text": [
      "<class 'pandas.core.frame.DataFrame'>\n",
      "RangeIndex: 826224 entries, 0 to 826223\n",
      "Data columns (total 14 columns):\n",
      " #   Column                              Non-Null Count   Dtype  \n",
      "---  ------                              --------------   -----  \n",
      " 0   id                                  826224 non-null  int64  \n",
      " 1   Elevation                           826224 non-null  int64  \n",
      " 2   Aspect                              826224 non-null  int64  \n",
      " 3   Slope                               826224 non-null  int64  \n",
      " 4   Horizontal_Distance_To_Hydrology    817992 non-null  float64\n",
      " 5   Vertical_Distance_To_Hydrology      793164 non-null  float64\n",
      " 6   Horizontal_Distance_To_Roadways     793085 non-null  float64\n",
      " 7   Hillshade_9am                       784779 non-null  float64\n",
      " 8   Hillshade_Noon                      793109 non-null  float64\n",
      " 9   Hillshade_3pm                       784866 non-null  float64\n",
      " 10  Horizontal_Distance_To_Fire_Points  793303 non-null  float64\n",
      " 11  Soil_Type                           826224 non-null  int64  \n",
      " 12  Wilderness_Area                     826224 non-null  int64  \n",
      " 13  Cover_Type                          826224 non-null  int64  \n",
      "dtypes: float64(7), int64(7)\n",
      "memory usage: 88.3 MB\n"
     ]
    }
   ],
   "source": [
    "train.info()"
   ]
  },
  {
   "cell_type": "code",
   "execution_count": 41,
   "metadata": {},
   "outputs": [
    {
     "name": "stdout",
     "output_type": "stream",
     "text": [
      "<class 'pandas.core.frame.DataFrame'>\n",
      "RangeIndex: 550816 entries, 0 to 550815\n",
      "Data columns (total 13 columns):\n",
      " #   Column                              Non-Null Count   Dtype  \n",
      "---  ------                              --------------   -----  \n",
      " 0   id                                  550816 non-null  int64  \n",
      " 1   Elevation                           550816 non-null  int64  \n",
      " 2   Aspect                              550816 non-null  int64  \n",
      " 3   Slope                               550816 non-null  int64  \n",
      " 4   Horizontal_Distance_To_Hydrology    545278 non-null  float64\n",
      " 5   Vertical_Distance_To_Hydrology      528795 non-null  float64\n",
      " 6   Horizontal_Distance_To_Roadways     528874 non-null  float64\n",
      " 7   Hillshade_9am                       523409 non-null  float64\n",
      " 8   Hillshade_Noon                      528850 non-null  float64\n",
      " 9   Hillshade_3pm                       523322 non-null  float64\n",
      " 10  Horizontal_Distance_To_Fire_Points  528656 non-null  float64\n",
      " 11  Soil_Type                           550816 non-null  int64  \n",
      " 12  Wilderness_Area                     550816 non-null  int64  \n",
      "dtypes: float64(7), int64(6)\n",
      "memory usage: 54.6 MB\n"
     ]
    }
   ],
   "source": [
    "test.info()"
   ]
  },
  {
   "cell_type": "code",
   "execution_count": 42,
   "metadata": {
    "executionInfo": {
     "elapsed": 10,
     "status": "ok",
     "timestamp": 1642323852723,
     "user": {
      "displayName": "Jiyoon Kim",
      "photoUrl": "https://lh3.googleusercontent.com/a/default-user=s64",
      "userId": "16007402657412234118"
     },
     "user_tz": -540
    },
    "id": "tXaOAvZo5Oi5"
   },
   "outputs": [],
   "source": [
    "train_x = train.drop(columns=['id','Cover_Type'], errors='ignore')\n",
    "test = test.drop(columns=['id'], errors='ignore')"
   ]
  },
  {
   "cell_type": "code",
   "execution_count": 15,
   "metadata": {
    "colab": {
     "base_uri": "https://localhost:8080/"
    },
    "executionInfo": {
     "elapsed": 9,
     "status": "ok",
     "timestamp": 1642323858037,
     "user": {
      "displayName": "Jiyoon Kim",
      "photoUrl": "https://lh3.googleusercontent.com/a/default-user=s64",
      "userId": "16007402657412234118"
     },
     "user_tz": -540
    },
    "id": "a1n-fRDjwQez",
    "outputId": "b31b3c58-89d7-4779-f952-e27b3a836dfc"
   },
   "outputs": [
    {
     "data": {
      "text/plain": [
       "(['Soil_Type', 'Wilderness_Area'],\n",
       " ['Elevation',\n",
       "  'Aspect',\n",
       "  'Slope',\n",
       "  'Horizontal_Distance_To_Hydrology',\n",
       "  'Vertical_Distance_To_Hydrology',\n",
       "  'Horizontal_Distance_To_Roadways',\n",
       "  'Hillshade_9am',\n",
       "  'Hillshade_Noon',\n",
       "  'Hillshade_3pm',\n",
       "  'Horizontal_Distance_To_Fire_Points'])"
      ]
     },
     "execution_count": 15,
     "metadata": {},
     "output_type": "execute_result"
    }
   ],
   "source": [
    "# 범주형, 숫자형 column 지정\n",
    "cat_col = list(train_x.columns[10:])\n",
    "num_col = list(train_x.columns[:10])\n",
    "cat_col, num_col"
   ]
  },
  {
   "cell_type": "code",
   "execution_count": 16,
   "metadata": {
    "colab": {
     "base_uri": "https://localhost:8080/",
     "height": 270
    },
    "executionInfo": {
     "elapsed": 9,
     "status": "ok",
     "timestamp": 1642323852723,
     "user": {
      "displayName": "Jiyoon Kim",
      "photoUrl": "https://lh3.googleusercontent.com/a/default-user=s64",
      "userId": "16007402657412234118"
     },
     "user_tz": -540
    },
    "id": "jVkyNe_uvxqm",
    "outputId": "30fe8c76-5afb-4a54-dda0-d3c4144f31f7"
   },
   "outputs": [
    {
     "data": {
      "text/html": [
       "<div>\n",
       "<style scoped>\n",
       "    .dataframe tbody tr th:only-of-type {\n",
       "        vertical-align: middle;\n",
       "    }\n",
       "\n",
       "    .dataframe tbody tr th {\n",
       "        vertical-align: top;\n",
       "    }\n",
       "\n",
       "    .dataframe thead th {\n",
       "        text-align: right;\n",
       "    }\n",
       "</style>\n",
       "<table border=\"1\" class=\"dataframe\">\n",
       "  <thead>\n",
       "    <tr style=\"text-align: right;\">\n",
       "      <th></th>\n",
       "      <th>Elevation</th>\n",
       "      <th>Aspect</th>\n",
       "      <th>Slope</th>\n",
       "      <th>Horizontal_Distance_To_Hydrology</th>\n",
       "      <th>Vertical_Distance_To_Hydrology</th>\n",
       "      <th>Horizontal_Distance_To_Roadways</th>\n",
       "      <th>Hillshade_9am</th>\n",
       "      <th>Hillshade_Noon</th>\n",
       "      <th>Hillshade_3pm</th>\n",
       "      <th>Horizontal_Distance_To_Fire_Points</th>\n",
       "      <th>Soil_Type</th>\n",
       "      <th>Wilderness_Area</th>\n",
       "    </tr>\n",
       "  </thead>\n",
       "  <tbody>\n",
       "    <tr>\n",
       "      <th>0</th>\n",
       "      <td>2983</td>\n",
       "      <td>339</td>\n",
       "      <td>23</td>\n",
       "      <td>97.0</td>\n",
       "      <td>NaN</td>\n",
       "      <td>1441.0</td>\n",
       "      <td>223.0</td>\n",
       "      <td>205.0</td>\n",
       "      <td>105.0</td>\n",
       "      <td>3487.0</td>\n",
       "      <td>21</td>\n",
       "      <td>0</td>\n",
       "    </tr>\n",
       "    <tr>\n",
       "      <th>1</th>\n",
       "      <td>3046</td>\n",
       "      <td>375</td>\n",
       "      <td>5</td>\n",
       "      <td>69.0</td>\n",
       "      <td>-3.0</td>\n",
       "      <td>865.0</td>\n",
       "      <td>223.0</td>\n",
       "      <td>225.0</td>\n",
       "      <td>149.0</td>\n",
       "      <td>1522.0</td>\n",
       "      <td>0</td>\n",
       "      <td>2</td>\n",
       "    </tr>\n",
       "    <tr>\n",
       "      <th>2</th>\n",
       "      <td>2540</td>\n",
       "      <td>199</td>\n",
       "      <td>10</td>\n",
       "      <td>128.0</td>\n",
       "      <td>2.0</td>\n",
       "      <td>1009.0</td>\n",
       "      <td>216.0</td>\n",
       "      <td>245.0</td>\n",
       "      <td>146.0</td>\n",
       "      <td>1977.0</td>\n",
       "      <td>0</td>\n",
       "      <td>0</td>\n",
       "    </tr>\n",
       "    <tr>\n",
       "      <th>3</th>\n",
       "      <td>2893</td>\n",
       "      <td>351</td>\n",
       "      <td>21</td>\n",
       "      <td>54.0</td>\n",
       "      <td>19.0</td>\n",
       "      <td>4886.0</td>\n",
       "      <td>247.0</td>\n",
       "      <td>195.0</td>\n",
       "      <td>127.0</td>\n",
       "      <td>1777.0</td>\n",
       "      <td>18</td>\n",
       "      <td>2</td>\n",
       "    </tr>\n",
       "    <tr>\n",
       "      <th>4</th>\n",
       "      <td>2529</td>\n",
       "      <td>58</td>\n",
       "      <td>35</td>\n",
       "      <td>92.0</td>\n",
       "      <td>42.0</td>\n",
       "      <td>455.0</td>\n",
       "      <td>225.0</td>\n",
       "      <td>249.0</td>\n",
       "      <td>168.0</td>\n",
       "      <td>264.0</td>\n",
       "      <td>25</td>\n",
       "      <td>2</td>\n",
       "    </tr>\n",
       "  </tbody>\n",
       "</table>\n",
       "</div>"
      ],
      "text/plain": [
       "   Elevation  Aspect  Slope  Horizontal_Distance_To_Hydrology  \\\n",
       "0       2983     339     23                              97.0   \n",
       "1       3046     375      5                              69.0   \n",
       "2       2540     199     10                             128.0   \n",
       "3       2893     351     21                              54.0   \n",
       "4       2529      58     35                              92.0   \n",
       "\n",
       "   Vertical_Distance_To_Hydrology  Horizontal_Distance_To_Roadways  \\\n",
       "0                             NaN                           1441.0   \n",
       "1                            -3.0                            865.0   \n",
       "2                             2.0                           1009.0   \n",
       "3                            19.0                           4886.0   \n",
       "4                            42.0                            455.0   \n",
       "\n",
       "   Hillshade_9am  Hillshade_Noon  Hillshade_3pm  \\\n",
       "0          223.0           205.0          105.0   \n",
       "1          223.0           225.0          149.0   \n",
       "2          216.0           245.0          146.0   \n",
       "3          247.0           195.0          127.0   \n",
       "4          225.0           249.0          168.0   \n",
       "\n",
       "   Horizontal_Distance_To_Fire_Points  Soil_Type  Wilderness_Area  \n",
       "0                              3487.0         21                0  \n",
       "1                              1522.0          0                2  \n",
       "2                              1977.0          0                0  \n",
       "3                              1777.0         18                2  \n",
       "4                               264.0         25                2  "
      ]
     },
     "execution_count": 16,
     "metadata": {},
     "output_type": "execute_result"
    }
   ],
   "source": [
    "train_x.head()"
   ]
  },
  {
   "cell_type": "code",
   "execution_count": 17,
   "metadata": {
    "colab": {
     "base_uri": "https://localhost:8080/",
     "height": 344
    },
    "executionInfo": {
     "elapsed": 3420,
     "status": "ok",
     "timestamp": 1642323856137,
     "user": {
      "displayName": "Jiyoon Kim",
      "photoUrl": "https://lh3.googleusercontent.com/a/default-user=s64",
      "userId": "16007402657412234118"
     },
     "user_tz": -540
    },
    "id": "QCdQermnwJT3",
    "outputId": "19651367-3ff2-4721-80ea-e231e0ffc966"
   },
   "outputs": [
    {
     "data": {
      "image/png": "[encoded data removed]",
      "text/plain": [
       "<Figure size 1800x720 with 2 Axes>"
      ]
     },
     "metadata": {
      "needs_background": "light"
     },
     "output_type": "display_data"
    }
   ],
   "source": [
    "msno.matrix(train_x);"
   ]
  },
  {
   "cell_type": "code",
   "execution_count": 18,
   "metadata": {
    "colab": {
     "base_uri": "https://localhost:8080/",
     "height": 344
    },
    "executionInfo": {
     "elapsed": 1902,
     "status": "ok",
     "timestamp": 1642323858036,
     "user": {
      "displayName": "Jiyoon Kim",
      "photoUrl": "https://lh3.googleusercontent.com/a/default-user=s64",
      "userId": "16007402657412234118"
     },
     "user_tz": -540
    },
    "id": "8x8bVMY7wMAa",
    "outputId": "32e380d1-f9c5-479f-b57a-87593ee577e0"
   },
   "outputs": [
    {
     "data": {
      "image/png": "[encoded data removed]",
      "text/plain": [
       "<Figure size 1800x720 with 2 Axes>"
      ]
     },
     "metadata": {
      "needs_background": "light"
     },
     "output_type": "display_data"
    }
   ],
   "source": [
    "msno.matrix(test);"
   ]
  },
  {
   "cell_type": "code",
   "execution_count": 19,
   "metadata": {
    "colab": {
     "base_uri": "https://localhost:8080/"
    },
    "executionInfo": {
     "elapsed": 11,
     "status": "ok",
     "timestamp": 1642323858036,
     "user": {
      "displayName": "Jiyoon Kim",
      "photoUrl": "https://lh3.googleusercontent.com/a/default-user=s64",
      "userId": "16007402657412234118"
     },
     "user_tz": -540
    },
    "id": "sY0LooQYv3Yz",
    "outputId": "db440e09-6713-4627-923a-f19082e6a542"
   },
   "outputs": [
    {
     "name": "stdout",
     "output_type": "stream",
     "text": [
      "<class 'pandas.core.frame.DataFrame'>\n",
      "RangeIndex: 826224 entries, 0 to 826223\n",
      "Data columns (total 12 columns):\n",
      " #   Column                              Non-Null Count   Dtype  \n",
      "---  ------                              --------------   -----  \n",
      " 0   Elevation                           826224 non-null  int64  \n",
      " 1   Aspect                              826224 non-null  int64  \n",
      " 2   Slope                               826224 non-null  int64  \n",
      " 3   Horizontal_Distance_To_Hydrology    817992 non-null  float64\n",
      " 4   Vertical_Distance_To_Hydrology      793164 non-null  float64\n",
      " 5   Horizontal_Distance_To_Roadways     793085 non-null  float64\n",
      " 6   Hillshade_9am                       784779 non-null  float64\n",
      " 7   Hillshade_Noon                      793109 non-null  float64\n",
      " 8   Hillshade_3pm                       784866 non-null  float64\n",
      " 9   Horizontal_Distance_To_Fire_Points  793303 non-null  float64\n",
      " 10  Soil_Type                           826224 non-null  int64  \n",
      " 11  Wilderness_Area                     826224 non-null  int64  \n",
      "dtypes: float64(7), int64(5)\n",
      "memory usage: 75.6 MB\n"
     ]
    }
   ],
   "source": [
    "train_x.info()"
   ]
  },
  {
   "cell_type": "code",
   "execution_count": 20,
   "metadata": {},
   "outputs": [
    {
     "data": {
      "text/html": [
       "<div>\n",
       "<style scoped>\n",
       "    .dataframe tbody tr th:only-of-type {\n",
       "        vertical-align: middle;\n",
       "    }\n",
       "\n",
       "    .dataframe tbody tr th {\n",
       "        vertical-align: top;\n",
       "    }\n",
       "\n",
       "    .dataframe thead th {\n",
       "        text-align: right;\n",
       "    }\n",
       "</style>\n",
       "<table border=\"1\" class=\"dataframe\">\n",
       "  <thead>\n",
       "    <tr style=\"text-align: right;\">\n",
       "      <th></th>\n",
       "      <th>Elevation</th>\n",
       "      <th>Aspect</th>\n",
       "      <th>Slope</th>\n",
       "      <th>Horizontal_Distance_To_Hydrology</th>\n",
       "      <th>Vertical_Distance_To_Hydrology</th>\n",
       "      <th>Horizontal_Distance_To_Roadways</th>\n",
       "      <th>Hillshade_9am</th>\n",
       "      <th>Hillshade_Noon</th>\n",
       "      <th>Hillshade_3pm</th>\n",
       "      <th>Horizontal_Distance_To_Fire_Points</th>\n",
       "      <th>Soil_Type</th>\n",
       "      <th>Wilderness_Area</th>\n",
       "    </tr>\n",
       "  </thead>\n",
       "  <tbody>\n",
       "    <tr>\n",
       "      <th>count</th>\n",
       "      <td>826224.000000</td>\n",
       "      <td>826224.000000</td>\n",
       "      <td>826224.000000</td>\n",
       "      <td>817992.000000</td>\n",
       "      <td>793164.000000</td>\n",
       "      <td>793085.000000</td>\n",
       "      <td>784779.000000</td>\n",
       "      <td>793109.000000</td>\n",
       "      <td>784866.000000</td>\n",
       "      <td>793303.000000</td>\n",
       "      <td>826224.000000</td>\n",
       "      <td>826224.000000</td>\n",
       "    </tr>\n",
       "    <tr>\n",
       "      <th>mean</th>\n",
       "      <td>2943.346507</td>\n",
       "      <td>151.517130</td>\n",
       "      <td>15.260949</td>\n",
       "      <td>272.227882</td>\n",
       "      <td>52.673064</td>\n",
       "      <td>1706.496011</td>\n",
       "      <td>211.868308</td>\n",
       "      <td>220.940612</td>\n",
       "      <td>140.612038</td>\n",
       "      <td>1516.416838</td>\n",
       "      <td>10.367157</td>\n",
       "      <td>1.456131</td>\n",
       "    </tr>\n",
       "    <tr>\n",
       "      <th>std</th>\n",
       "      <td>328.216211</td>\n",
       "      <td>109.858219</td>\n",
       "      <td>8.588512</td>\n",
       "      <td>226.315705</td>\n",
       "      <td>68.186882</td>\n",
       "      <td>1286.145727</td>\n",
       "      <td>30.701996</td>\n",
       "      <td>22.277715</td>\n",
       "      <td>43.710597</td>\n",
       "      <td>1110.210430</td>\n",
       "      <td>12.770907</td>\n",
       "      <td>0.961180</td>\n",
       "    </tr>\n",
       "    <tr>\n",
       "      <th>min</th>\n",
       "      <td>1784.000000</td>\n",
       "      <td>-31.000000</td>\n",
       "      <td>-3.000000</td>\n",
       "      <td>-75.000000</td>\n",
       "      <td>-296.000000</td>\n",
       "      <td>-287.000000</td>\n",
       "      <td>4.000000</td>\n",
       "      <td>56.000000</td>\n",
       "      <td>-51.000000</td>\n",
       "      <td>-267.000000</td>\n",
       "      <td>0.000000</td>\n",
       "      <td>0.000000</td>\n",
       "    </tr>\n",
       "    <tr>\n",
       "      <th>25%</th>\n",
       "      <td>2702.000000</td>\n",
       "      <td>60.000000</td>\n",
       "      <td>9.000000</td>\n",
       "      <td>111.000000</td>\n",
       "      <td>4.000000</td>\n",
       "      <td>792.000000</td>\n",
       "      <td>198.000000</td>\n",
       "      <td>210.000000</td>\n",
       "      <td>115.000000</td>\n",
       "      <td>735.000000</td>\n",
       "      <td>0.000000</td>\n",
       "      <td>0.000000</td>\n",
       "    </tr>\n",
       "    <tr>\n",
       "      <th>50%</th>\n",
       "      <td>2932.000000</td>\n",
       "      <td>123.000000</td>\n",
       "      <td>14.000000</td>\n",
       "      <td>214.000000</td>\n",
       "      <td>33.000000</td>\n",
       "      <td>1381.000000</td>\n",
       "      <td>218.000000</td>\n",
       "      <td>224.000000</td>\n",
       "      <td>142.000000</td>\n",
       "      <td>1278.000000</td>\n",
       "      <td>3.000000</td>\n",
       "      <td>2.000000</td>\n",
       "    </tr>\n",
       "    <tr>\n",
       "      <th>75%</th>\n",
       "      <td>3216.000000</td>\n",
       "      <td>247.000000</td>\n",
       "      <td>20.000000</td>\n",
       "      <td>363.000000</td>\n",
       "      <td>80.000000</td>\n",
       "      <td>2268.000000</td>\n",
       "      <td>233.000000</td>\n",
       "      <td>237.000000</td>\n",
       "      <td>169.000000</td>\n",
       "      <td>1999.000000</td>\n",
       "      <td>21.000000</td>\n",
       "      <td>2.000000</td>\n",
       "    </tr>\n",
       "    <tr>\n",
       "      <th>max</th>\n",
       "      <td>4322.000000</td>\n",
       "      <td>405.000000</td>\n",
       "      <td>63.000000</td>\n",
       "      <td>1575.000000</td>\n",
       "      <td>628.000000</td>\n",
       "      <td>7666.000000</td>\n",
       "      <td>291.000000</td>\n",
       "      <td>279.000000</td>\n",
       "      <td>271.000000</td>\n",
       "      <td>8006.000000</td>\n",
       "      <td>39.000000</td>\n",
       "      <td>3.000000</td>\n",
       "    </tr>\n",
       "  </tbody>\n",
       "</table>\n",
       "</div>"
      ],
      "text/plain": [
       "           Elevation         Aspect          Slope  \\\n",
       "count  826224.000000  826224.000000  826224.000000   \n",
       "mean     2943.346507     151.517130      15.260949   \n",
       "std       328.216211     109.858219       8.588512   \n",
       "min      1784.000000     -31.000000      -3.000000   \n",
       "25%      2702.000000      60.000000       9.000000   \n",
       "50%      2932.000000     123.000000      14.000000   \n",
       "75%      3216.000000     247.000000      20.000000   \n",
       "max      4322.000000     405.000000      63.000000   \n",
       "\n",
       "       Horizontal_Distance_To_Hydrology  Vertical_Distance_To_Hydrology  \\\n",
       "count                     817992.000000                   793164.000000   \n",
       "mean                         272.227882                       52.673064   \n",
       "std                          226.315705                       68.186882   \n",
       "min                          -75.000000                     -296.000000   \n",
       "25%                          111.000000                        4.000000   \n",
       "50%                          214.000000                       33.000000   \n",
       "75%                          363.000000                       80.000000   \n",
       "max                         1575.000000                      628.000000   \n",
       "\n",
       "       Horizontal_Distance_To_Roadways  Hillshade_9am  Hillshade_Noon  \\\n",
       "count                    793085.000000  784779.000000   793109.000000   \n",
       "mean                       1706.496011     211.868308      220.940612   \n",
       "std                        1286.145727      30.701996       22.277715   \n",
       "min                        -287.000000       4.000000       56.000000   \n",
       "25%                         792.000000     198.000000      210.000000   \n",
       "50%                        1381.000000     218.000000      224.000000   \n",
       "75%                        2268.000000     233.000000      237.000000   \n",
       "max                        7666.000000     291.000000      279.000000   \n",
       "\n",
       "       Hillshade_3pm  Horizontal_Distance_To_Fire_Points      Soil_Type  \\\n",
       "count  784866.000000                       793303.000000  826224.000000   \n",
       "mean      140.612038                         1516.416838      10.367157   \n",
       "std        43.710597                         1110.210430      12.770907   \n",
       "min       -51.000000                         -267.000000       0.000000   \n",
       "25%       115.000000                          735.000000       0.000000   \n",
       "50%       142.000000                         1278.000000       3.000000   \n",
       "75%       169.000000                         1999.000000      21.000000   \n",
       "max       271.000000                         8006.000000      39.000000   \n",
       "\n",
       "       Wilderness_Area  \n",
       "count    826224.000000  \n",
       "mean          1.456131  \n",
       "std           0.961180  \n",
       "min           0.000000  \n",
       "25%           0.000000  \n",
       "50%           2.000000  \n",
       "75%           2.000000  \n",
       "max           3.000000  "
      ]
     },
     "execution_count": 20,
     "metadata": {},
     "output_type": "execute_result"
    }
   ],
   "source": [
    "train_x.describe()"
   ]
  },
  {
   "cell_type": "code",
   "execution_count": null,
   "metadata": {},
   "outputs": [],
   "source": []
  },
  {
   "cell_type": "code",
   "execution_count": null,
   "metadata": {},
   "outputs": [],
   "source": []
  },
  {
   "cell_type": "code",
   "execution_count": null,
   "metadata": {},
   "outputs": [],
   "source": []
  },
  {
   "cell_type": "code",
   "execution_count": null,
   "metadata": {},
   "outputs": [
    {
     "data": {
      "text/plain": [
       "826224"
      ]
     },
     "execution_count": 51,
     "metadata": {},
     "output_type": "execute_result"
    }
   ],
   "source": [
    "n_train = train_x.index.size\n",
    "n_train"
   ]
  },
  {
   "cell_type": "code",
   "execution_count": 44,
   "metadata": {},
   "outputs": [
    {
     "name": "stdout",
     "output_type": "stream",
     "text": [
      "Elevation 0.0\n",
      "Aspect 1.0579455450337922\n",
      "Slope 0.19050523828889018\n",
      "Horizontal_Distance_To_Hydrology 0.06838339239721915\n",
      "Vertical_Distance_To_Hydrology 13.047188171730669\n",
      "Horizontal_Distance_To_Roadways 0.7664991576134317\n",
      "Hillshade_9am 0.0\n",
      "Hillshade_Noon 0.0\n",
      "Hillshade_3pm 0.3316291949882841\n",
      "Horizontal_Distance_To_Fire_Points 0.6650738782702996\n",
      "Soil_Type 0.0\n",
      "Wilderness_Area 0.0\n"
     ]
    }
   ],
   "source": [
    "for c in train_x.columns:\n",
    "    print(c, train_x[c][train_x[c].apply(lambda x: x<0)].count()/n_train*100)#plot(kind='box')"
   ]
  },
  {
   "cell_type": "code",
   "execution_count": 52,
   "metadata": {},
   "outputs": [
    {
     "data": {
      "text/plain": [
       "15.731327097736205"
      ]
     },
     "execution_count": 52,
     "metadata": {},
     "output_type": "execute_result"
    }
   ],
   "source": [
    "train_x[train_x<0].dropna(how='all').index.size/n_train*100"
   ]
  },
  {
   "cell_type": "code",
   "execution_count": null,
   "metadata": {},
   "outputs": [],
   "source": []
  },
  {
   "cell_type": "code",
   "execution_count": null,
   "metadata": {},
   "outputs": [],
   "source": []
  },
  {
   "cell_type": "code",
   "execution_count": null,
   "metadata": {},
   "outputs": [
    {
     "data": {
      "text/plain": [
       "550816"
      ]
     },
     "execution_count": 53,
     "metadata": {},
     "output_type": "execute_result"
    }
   ],
   "source": [
    "n_test = test.index.size\n",
    "n_test"
   ]
  },
  {
   "cell_type": "code",
   "execution_count": 25,
   "metadata": {},
   "outputs": [
    {
     "data": {
      "text/html": [
       "<div>\n",
       "<style scoped>\n",
       "    .dataframe tbody tr th:only-of-type {\n",
       "        vertical-align: middle;\n",
       "    }\n",
       "\n",
       "    .dataframe tbody tr th {\n",
       "        vertical-align: top;\n",
       "    }\n",
       "\n",
       "    .dataframe thead th {\n",
       "        text-align: right;\n",
       "    }\n",
       "</style>\n",
       "<table border=\"1\" class=\"dataframe\">\n",
       "  <thead>\n",
       "    <tr style=\"text-align: right;\">\n",
       "      <th></th>\n",
       "      <th>Elevation</th>\n",
       "      <th>Aspect</th>\n",
       "      <th>Slope</th>\n",
       "      <th>Horizontal_Distance_To_Hydrology</th>\n",
       "      <th>Vertical_Distance_To_Hydrology</th>\n",
       "      <th>Horizontal_Distance_To_Roadways</th>\n",
       "      <th>Hillshade_9am</th>\n",
       "      <th>Hillshade_Noon</th>\n",
       "      <th>Hillshade_3pm</th>\n",
       "      <th>Horizontal_Distance_To_Fire_Points</th>\n",
       "      <th>Soil_Type</th>\n",
       "      <th>Wilderness_Area</th>\n",
       "    </tr>\n",
       "  </thead>\n",
       "  <tbody>\n",
       "    <tr>\n",
       "      <th>count</th>\n",
       "      <td>550816.000000</td>\n",
       "      <td>550816.000000</td>\n",
       "      <td>550816.000000</td>\n",
       "      <td>545278.000000</td>\n",
       "      <td>528795.000000</td>\n",
       "      <td>528874.000000</td>\n",
       "      <td>523409.000000</td>\n",
       "      <td>528850.000000</td>\n",
       "      <td>523322.000000</td>\n",
       "      <td>528656.000000</td>\n",
       "      <td>550816.000000</td>\n",
       "      <td>550816.000000</td>\n",
       "    </tr>\n",
       "    <tr>\n",
       "      <th>mean</th>\n",
       "      <td>2944.109567</td>\n",
       "      <td>151.443852</td>\n",
       "      <td>15.234367</td>\n",
       "      <td>271.967545</td>\n",
       "      <td>52.843837</td>\n",
       "      <td>1707.654027</td>\n",
       "      <td>211.895139</td>\n",
       "      <td>221.013397</td>\n",
       "      <td>140.671464</td>\n",
       "      <td>1518.082280</td>\n",
       "      <td>10.376699</td>\n",
       "      <td>1.454143</td>\n",
       "    </tr>\n",
       "    <tr>\n",
       "      <th>std</th>\n",
       "      <td>328.006946</td>\n",
       "      <td>109.707668</td>\n",
       "      <td>8.586205</td>\n",
       "      <td>226.309936</td>\n",
       "      <td>68.395071</td>\n",
       "      <td>1287.935400</td>\n",
       "      <td>30.698694</td>\n",
       "      <td>22.276175</td>\n",
       "      <td>43.655699</td>\n",
       "      <td>1114.598851</td>\n",
       "      <td>12.776968</td>\n",
       "      <td>0.961824</td>\n",
       "    </tr>\n",
       "    <tr>\n",
       "      <th>min</th>\n",
       "      <td>1773.000000</td>\n",
       "      <td>-32.000000</td>\n",
       "      <td>-3.000000</td>\n",
       "      <td>-92.000000</td>\n",
       "      <td>-282.000000</td>\n",
       "      <td>-255.000000</td>\n",
       "      <td>-2.000000</td>\n",
       "      <td>50.000000</td>\n",
       "      <td>-49.000000</td>\n",
       "      <td>-270.000000</td>\n",
       "      <td>0.000000</td>\n",
       "      <td>0.000000</td>\n",
       "    </tr>\n",
       "    <tr>\n",
       "      <th>25%</th>\n",
       "      <td>2703.000000</td>\n",
       "      <td>61.000000</td>\n",
       "      <td>9.000000</td>\n",
       "      <td>111.000000</td>\n",
       "      <td>4.000000</td>\n",
       "      <td>793.000000</td>\n",
       "      <td>198.000000</td>\n",
       "      <td>210.000000</td>\n",
       "      <td>115.000000</td>\n",
       "      <td>735.000000</td>\n",
       "      <td>0.000000</td>\n",
       "      <td>0.000000</td>\n",
       "    </tr>\n",
       "    <tr>\n",
       "      <th>50%</th>\n",
       "      <td>2933.000000</td>\n",
       "      <td>123.000000</td>\n",
       "      <td>14.000000</td>\n",
       "      <td>214.000000</td>\n",
       "      <td>33.000000</td>\n",
       "      <td>1381.000000</td>\n",
       "      <td>218.000000</td>\n",
       "      <td>224.000000</td>\n",
       "      <td>142.000000</td>\n",
       "      <td>1277.000000</td>\n",
       "      <td>3.000000</td>\n",
       "      <td>2.000000</td>\n",
       "    </tr>\n",
       "    <tr>\n",
       "      <th>75%</th>\n",
       "      <td>3216.000000</td>\n",
       "      <td>246.000000</td>\n",
       "      <td>20.000000</td>\n",
       "      <td>362.000000</td>\n",
       "      <td>80.000000</td>\n",
       "      <td>2269.000000</td>\n",
       "      <td>233.000000</td>\n",
       "      <td>237.000000</td>\n",
       "      <td>169.000000</td>\n",
       "      <td>1999.000000</td>\n",
       "      <td>21.000000</td>\n",
       "      <td>2.000000</td>\n",
       "    </tr>\n",
       "    <tr>\n",
       "      <th>max</th>\n",
       "      <td>4355.000000</td>\n",
       "      <td>402.000000</td>\n",
       "      <td>61.000000</td>\n",
       "      <td>1592.000000</td>\n",
       "      <td>628.000000</td>\n",
       "      <td>7586.000000</td>\n",
       "      <td>297.000000</td>\n",
       "      <td>269.000000</td>\n",
       "      <td>272.000000</td>\n",
       "      <td>7989.000000</td>\n",
       "      <td>39.000000</td>\n",
       "      <td>3.000000</td>\n",
       "    </tr>\n",
       "  </tbody>\n",
       "</table>\n",
       "</div>"
      ],
      "text/plain": [
       "           Elevation         Aspect          Slope  \\\n",
       "count  550816.000000  550816.000000  550816.000000   \n",
       "mean     2944.109567     151.443852      15.234367   \n",
       "std       328.006946     109.707668       8.586205   \n",
       "min      1773.000000     -32.000000      -3.000000   \n",
       "25%      2703.000000      61.000000       9.000000   \n",
       "50%      2933.000000     123.000000      14.000000   \n",
       "75%      3216.000000     246.000000      20.000000   \n",
       "max      4355.000000     402.000000      61.000000   \n",
       "\n",
       "       Horizontal_Distance_To_Hydrology  Vertical_Distance_To_Hydrology  \\\n",
       "count                     545278.000000                   528795.000000   \n",
       "mean                         271.967545                       52.843837   \n",
       "std                          226.309936                       68.395071   \n",
       "min                          -92.000000                     -282.000000   \n",
       "25%                          111.000000                        4.000000   \n",
       "50%                          214.000000                       33.000000   \n",
       "75%                          362.000000                       80.000000   \n",
       "max                         1592.000000                      628.000000   \n",
       "\n",
       "       Horizontal_Distance_To_Roadways  Hillshade_9am  Hillshade_Noon  \\\n",
       "count                    528874.000000  523409.000000   528850.000000   \n",
       "mean                       1707.654027     211.895139      221.013397   \n",
       "std                        1287.935400      30.698694       22.276175   \n",
       "min                        -255.000000      -2.000000       50.000000   \n",
       "25%                         793.000000     198.000000      210.000000   \n",
       "50%                        1381.000000     218.000000      224.000000   \n",
       "75%                        2269.000000     233.000000      237.000000   \n",
       "max                        7586.000000     297.000000      269.000000   \n",
       "\n",
       "       Hillshade_3pm  Horizontal_Distance_To_Fire_Points      Soil_Type  \\\n",
       "count  523322.000000                       528656.000000  550816.000000   \n",
       "mean      140.671464                         1518.082280      10.376699   \n",
       "std        43.655699                         1114.598851      12.776968   \n",
       "min       -49.000000                         -270.000000       0.000000   \n",
       "25%       115.000000                          735.000000       0.000000   \n",
       "50%       142.000000                         1277.000000       3.000000   \n",
       "75%       169.000000                         1999.000000      21.000000   \n",
       "max       272.000000                         7989.000000      39.000000   \n",
       "\n",
       "       Wilderness_Area  \n",
       "count    550816.000000  \n",
       "mean          1.454143  \n",
       "std           0.961824  \n",
       "min           0.000000  \n",
       "25%           0.000000  \n",
       "50%           2.000000  \n",
       "75%           2.000000  \n",
       "max           3.000000  "
      ]
     },
     "execution_count": 25,
     "metadata": {},
     "output_type": "execute_result"
    }
   ],
   "source": [
    "test.describe()"
   ]
  },
  {
   "cell_type": "code",
   "execution_count": 54,
   "metadata": {},
   "outputs": [
    {
     "name": "stdout",
     "output_type": "stream",
     "text": [
      "Elevation 0.0\n",
      "Aspect 1.0567957357810958\n",
      "Slope 0.19643583338174636\n",
      "Horizontal_Distance_To_Hydrology 0.0708040434555278\n",
      "Vertical_Distance_To_Hydrology 13.090033695462733\n",
      "Horizontal_Distance_To_Roadways 0.7792075756695521\n",
      "Hillshade_9am 0.0001815488293731482\n",
      "Hillshade_Noon 0.0\n",
      "Hillshade_3pm 0.3462136176145936\n",
      "Horizontal_Distance_To_Fire_Points 0.6851652820542613\n"
     ]
    }
   ],
   "source": [
    "for c in num_col:\n",
    "    print(c, test[c][test[c].apply(lambda x: x<0)].count()/n_test*100)"
   ]
  },
  {
   "cell_type": "code",
   "execution_count": 55,
   "metadata": {},
   "outputs": [
    {
     "data": {
      "text/plain": [
       "15.82052808923488"
      ]
     },
     "execution_count": 55,
     "metadata": {},
     "output_type": "execute_result"
    }
   ],
   "source": [
    "test[test<0].dropna(how='all').index.size/n_test*100"
   ]
  },
  {
   "cell_type": "code",
   "execution_count": null,
   "metadata": {},
   "outputs": [],
   "source": []
  },
  {
   "cell_type": "code",
   "execution_count": null,
   "metadata": {},
   "outputs": [],
   "source": []
  },
  {
   "cell_type": "code",
   "execution_count": null,
   "metadata": {},
   "outputs": [],
   "source": []
  },
  {
   "cell_type": "code",
   "execution_count": 74,
   "metadata": {
    "colab": {
     "base_uri": "https://localhost:8080/"
    },
    "executionInfo": {
     "elapsed": 8,
     "status": "ok",
     "timestamp": 1642323858037,
     "user": {
      "displayName": "Jiyoon Kim",
      "photoUrl": "https://lh3.googleusercontent.com/a/default-user=s64",
      "userId": "16007402657412234118"
     },
     "user_tz": -540
    },
    "id": "p-_GfD-J76-E",
    "outputId": "f3280f1f-b58f-4d4f-c240-f7b4c03a7fd7"
   },
   "outputs": [
    {
     "data": {
      "text/plain": [
       "Elevation                                 0\n",
       "Aspect                                 8741\n",
       "Slope                                  1574\n",
       "Horizontal_Distance_To_Hydrology       8797\n",
       "Horizontal_Distance_To_Roadways       39472\n",
       "Hillshade_9am                         41445\n",
       "Hillshade_Noon                        33115\n",
       "Hillshade_3pm                         44098\n",
       "Horizontal_Distance_To_Fire_Points    38416\n",
       "Soil_Type                                 0\n",
       "Wilderness_Area                           0\n",
       "dtype: int64"
      ]
     },
     "execution_count": 74,
     "metadata": {},
     "output_type": "execute_result"
    }
   ],
   "source": [
    "train_x.isna().sum()"
   ]
  },
  {
   "cell_type": "code",
   "execution_count": 83,
   "metadata": {
    "colab": {
     "base_uri": "https://localhost:8080/",
     "height": 262
    },
    "executionInfo": {
     "elapsed": 336,
     "status": "ok",
     "timestamp": 1642323858367,
     "user": {
      "displayName": "Jiyoon Kim",
      "photoUrl": "https://lh3.googleusercontent.com/a/default-user=s64",
      "userId": "16007402657412234118"
     },
     "user_tz": -540
    },
    "id": "dzGnzzEh7ZDl",
    "outputId": "11a4e9cb-5c26-46d9-aa22-d78f2efa4b09"
   },
   "outputs": [
    {
     "data": {
      "image/png": "[encoded data removed]",
      "text/plain": [
       "<Figure size 432x288 with 1 Axes>"
      ]
     },
     "metadata": {
      "needs_background": "light"
     },
     "output_type": "display_data"
    }
   ],
   "source": [
    "label.value_counts().plot(kind='bar');"
   ]
  },
  {
   "cell_type": "code",
   "execution_count": 33,
   "metadata": {
    "colab": {
     "base_uri": "https://localhost:8080/",
     "height": 1000
    },
    "executionInfo": {
     "elapsed": 2795,
     "status": "ok",
     "timestamp": 1642323861160,
     "user": {
      "displayName": "Jiyoon Kim",
      "photoUrl": "https://lh3.googleusercontent.com/a/default-user=s64",
      "userId": "16007402657412234118"
     },
     "user_tz": -540
    },
    "id": "-lJN8l_r-MOZ",
    "outputId": "b119377c-1055-4b18-d4d3-310d2da2dba0",
    "scrolled": true,
    "tags": []
   },
   "outputs": [
    {
     "data": {
      "image/png": "[encoded data removed]",
      "text/plain": [
       "<Figure size 432x288 with 1 Axes>"
      ]
     },
     "metadata": {
      "needs_background": "light"
     },
     "output_type": "display_data"
    },
    {
     "data": {
      "image/png": "[encoded data removed]",
      "text/plain": [
       "<Figure size 432x288 with 1 Axes>"
      ]
     },
     "metadata": {
      "needs_background": "light"
     },
     "output_type": "display_data"
    },
    {
     "data": {
      "image/png": "[encoded data removed]",
      "text/plain": [
       "<Figure size 432x288 with 1 Axes>"
      ]
     },
     "metadata": {
      "needs_background": "light"
     },
     "output_type": "display_data"
    },
    {
     "data": {
      "image/png": "[encoded data removed]",
      "text/plain": [
       "<Figure size 432x288 with 1 Axes>"
      ]
     },
     "metadata": {
      "needs_background": "light"
     },
     "output_type": "display_data"
    },
    {
     "data": {
      "image/png": "[encoded data removed]",
      "text/plain": [
       "<Figure size 432x288 with 1 Axes>"
      ]
     },
     "metadata": {
      "needs_background": "light"
     },
     "output_type": "display_data"
    },
    {
     "data": {
      "image/png": "[encoded data removed]",
      "text/plain": [
       "<Figure size 432x288 with 1 Axes>"
      ]
     },
     "metadata": {
      "needs_background": "light"
     },
     "output_type": "display_data"
    },
    {
     "data": {
      "image/png": "[encoded data removed]",
      "text/plain": [
       "<Figure size 432x288 with 1 Axes>"
      ]
     },
     "metadata": {
      "needs_background": "light"
     },
     "output_type": "display_data"
    },
    {
     "data": {
      "image/png": "[encoded data removed]",
      "text/plain": [
       "<Figure size 432x288 with 1 Axes>"
      ]
     },
     "metadata": {
      "needs_background": "light"
     },
     "output_type": "display_data"
    },
    {
     "data": {
      "image/png": "[encoded data removed]",
      "text/plain": [
       "<Figure size 432x288 with 1 Axes>"
      ]
     },
     "metadata": {
      "needs_background": "light"
     },
     "output_type": "display_data"
    },
    {
     "data": {
      "image/png": "[encoded data removed]",
      "text/plain": [
       "<Figure size 432x288 with 1 Axes>"
      ]
     },
     "metadata": {
      "needs_background": "light"
     },
     "output_type": "display_data"
    }
   ],
   "source": [
    "# num_col 분포\n",
    "for col in num_col:\n",
    "    plt.figure()\n",
    "    train_x[col].plot(kind='hist', xlabel=col)\n",
    "    plt.show()\n"
   ]
  },
  {
   "cell_type": "code",
   "execution_count": 20,
   "metadata": {
    "colab": {
     "base_uri": "https://localhost:8080/",
     "height": 543
    },
    "executionInfo": {
     "elapsed": 825,
     "status": "ok",
     "timestamp": 1642323861980,
     "user": {
      "displayName": "Jiyoon Kim",
      "photoUrl": "https://lh3.googleusercontent.com/a/default-user=s64",
      "userId": "16007402657412234118"
     },
     "user_tz": -540
    },
    "id": "RYrHrd_e_z0k",
    "outputId": "cef87d7e-8c83-4de1-9a71-6418d0620aa1"
   },
   "outputs": [
    {
     "data": {
      "image/png": "[encoded data removed]",
      "text/plain": [
       "<Figure size 432x288 with 1 Axes>"
      ]
     },
     "metadata": {
      "needs_background": "light"
     },
     "output_type": "display_data"
    },
    {
     "data": {
      "image/png": "[encoded data removed]",
      "text/plain": [
       "<Figure size 432x288 with 1 Axes>"
      ]
     },
     "metadata": {
      "needs_background": "light"
     },
     "output_type": "display_data"
    }
   ],
   "source": [
    "# cat_col 분포\n",
    "for col in cat_col:\n",
    "    plt.figure()\n",
    "    train_x[col].value_counts().plot(kind='bar', xlabel=col)\n",
    "    plt.show()"
   ]
  },
  {
   "cell_type": "code",
   "execution_count": null,
   "metadata": {},
   "outputs": [],
   "source": []
  },
  {
   "cell_type": "code",
   "execution_count": null,
   "metadata": {},
   "outputs": [],
   "source": []
  },
  {
   "cell_type": "markdown",
   "metadata": {
    "id": "CDWhqkGoVFss"
   },
   "source": [
    "# preprocessing"
   ]
  },
  {
   "cell_type": "code",
   "execution_count": 21,
   "metadata": {},
   "outputs": [],
   "source": [
    "# for i in enumerate (cat_col) : \n",
    "#     ca = i[1] \n",
    "#     train_x[ca] = train_x[ca].astype('category') \n",
    "#     test[ca] = test[ca].astype('category')"
   ]
  },
  {
   "cell_type": "code",
   "execution_count": 88,
   "metadata": {
    "executionInfo": {
     "elapsed": 369,
     "status": "ok",
     "timestamp": 1642323862342,
     "user": {
      "displayName": "Jiyoon Kim",
      "photoUrl": "https://lh3.googleusercontent.com/a/default-user=s64",
      "userId": "16007402657412234118"
     },
     "user_tz": -540
    },
    "id": "-RApbGogVDrR"
   },
   "outputs": [],
   "source": [
    "from sklearn.impute import SimpleImputer\n",
    "from sklearn.preprocessing import * # MinMaxScaler, StandardScaler, OneHotEncoder\n",
    "\n",
    "def preprocess(trn, val, test):\n",
    "    tmp_train = trn.copy()\n",
    "    tmp_valid = val.copy()\n",
    "    tmp_test  = test.copy()\n",
    "\n",
    "    # null num columns -> mean\n",
    "    imputer = SimpleImputer(strategy='mean')\n",
    "    tmp_train[num_col] = imputer.fit_transform(tmp_train[num_col])\n",
    "    tmp_valid[num_col] = imputer.transform(tmp_valid[num_col])\n",
    "    tmp_test[num_col] = imputer.transform(tmp_test[num_col])\n",
    "\n",
    "    # # scaling\n",
    "    scaler = MinMaxScaler()\n",
    "    tmp_train[num_col] = scaler.fit_transform(tmp_train[num_col])\n",
    "    tmp_valid[num_col] = scaler.transform(tmp_valid[num_col])\n",
    "    tmp_test[num_col] = scaler.transform(tmp_test[num_col])\n",
    "    \n",
    "    # encoding\n",
    "    x_catcol_all = pd.concat([tmp_train[cat_col], tmp_valid[cat_col], tmp_test[cat_col]])\n",
    "    ohe = OneHotEncoder(sparse=False)\n",
    "    ohe.fit(x_catcol_all)\n",
    "    \n",
    "    ohe_col = []\n",
    "    for fni, cat in zip(ohe.feature_names_in_, ohe.categories_):\n",
    "        ohe_col += [fni + '_'+ i for i in cat.astype(str)]\n",
    "    \n",
    "    new_train_cat = pd.DataFrame(ohe.transform(tmp_train[cat_col]), columns=ohe_col, index=tmp_train.index)\n",
    "    new_valid_cat = pd.DataFrame(ohe.transform(tmp_valid[cat_col]), columns=ohe_col, index=tmp_valid.index)\n",
    "    new_test_cat = pd.DataFrame(ohe.transform(tmp_test[cat_col]), columns=ohe_col, index=tmp_test.index)\n",
    "    \n",
    "    ## drop cat_col\n",
    "    for data in [tmp_train, tmp_valid, tmp_test]:\n",
    "        data.drop(columns=cat_col, inplace=True, errors='ignore')\n",
    "    \n",
    "    tmp_train = pd.concat([tmp_train, new_train_cat], axis=1)\n",
    "    tmp_valid = pd.concat([tmp_valid, new_valid_cat], axis=1)\n",
    "    tmp_test = pd.concat([tmp_test, new_test_cat], axis=1)\n",
    "        \n",
    "    return tmp_train, tmp_valid, tmp_test"
   ]
  },
  {
   "cell_type": "markdown",
   "metadata": {
    "id": "trlERJWJa3rV"
   },
   "source": [
    "# model selection"
   ]
  },
  {
   "cell_type": "code",
   "execution_count": 108,
   "metadata": {
    "executionInfo": {
     "elapsed": 400,
     "status": "ok",
     "timestamp": 1642323871332,
     "user": {
      "displayName": "Jiyoon Kim",
      "photoUrl": "https://lh3.googleusercontent.com/a/default-user=s64",
      "userId": "16007402657412234118"
     },
     "user_tz": -540
    },
    "id": "b-Ah-8D0Dw72"
   },
   "outputs": [],
   "source": [
    "from sklearn.model_selection import *\n",
    "\n",
    "from sklearn.tree import DecisionTreeClassifier\n",
    "# RandomForestClassifier, VotingClassifier, GradientBoostingClassifier, HistGradientBoostingClassifier\n",
    "from sklearn.ensemble import *\n",
    "from sklearn.metrics import *\n",
    "from sklearn.preprocessing import LabelEncoder\n",
    "\n",
    "from xgboost import XGBClassifier\n",
    "from xgboost.callback import EarlyStopping\n",
    "from lightgbm import LGBMClassifier, early_stopping"
   ]
  },
  {
   "cell_type": "code",
   "execution_count": 90,
   "metadata": {},
   "outputs": [],
   "source": [
    "# split data\n",
    "x_train, x_valid, y_train, y_valid = train_test_split(train_x, label,\n",
    "                                                      test_size=0.3,\n",
    "                                                      random_state=23,\n",
    "                                                      shuffle=True,\n",
    "                                                      stratify=label\n",
    "                                                     )\n",
    "# preprocessing\n",
    "x_train, x_valid, x_test = preprocess(x_train, x_valid, test)\n",
    "\n",
    "# scorer\n",
    "scorer = make_scorer(f1_score, average='weighted')\n",
    "\n",
    "def get_grid(model, init_pm, fit_pm):\n",
    "    \n",
    "    grid = GridSearchCV(model, \n",
    "                        verbose=10,\n",
    "                        param_grid=init_pm,\n",
    "                        cv=5,\n",
    "                        scoring=scorer\n",
    "                       )\n",
    "    grid.fit(x_train, y_train,\n",
    "             **fit_pm\n",
    "            )\n",
    "    return grid, grid.best_estimator_\n",
    "\n"
   ]
  },
  {
   "cell_type": "code",
   "execution_count": null,
   "metadata": {},
   "outputs": [],
   "source": []
  },
  {
   "cell_type": "code",
   "execution_count": null,
   "metadata": {},
   "outputs": [],
   "source": []
  },
  {
   "cell_type": "markdown",
   "metadata": {
    "id": "TK0Xp6-pDw72",
    "tags": []
   },
   "source": [
    "# ensemble"
   ]
  },
  {
   "cell_type": "code",
   "execution_count": 91,
   "metadata": {
    "colab": {
     "base_uri": "https://localhost:8080/"
    },
    "executionInfo": {
     "elapsed": 480465,
     "status": "ok",
     "timestamp": 1642317733794,
     "user": {
      "displayName": "Jiyoon Kim",
      "photoUrl": "https://lh3.googleusercontent.com/a/default-user=s64",
      "userId": "16007402657412234118"
     },
     "user_tz": -540
    },
    "id": "0z9bIiFGDw73",
    "outputId": "e297a08e-d5d7-44da-f631-886265c495dc"
   },
   "outputs": [],
   "source": [
    "\n",
    "def get_oof(estm, fit_pm):\n",
    "    n_splits = 5\n",
    "\n",
    "    # oof values array\n",
    "    le = LabelEncoder()\n",
    "    le.fit(label)\n",
    "    oof_pred = np.zeros((test.shape[0], len(le.classes_)))\n",
    "    \n",
    "    # StratifiedKFold object\n",
    "    skf = StratifiedKFold(n_splits=n_splits, shuffle=True, random_state=42)\n",
    "    # val scores\n",
    "    val_scores = list()\n",
    "    # f1 scores array [train, valid]\n",
    "    score_recode = list()\n",
    "    \n",
    "    # n_splits 만큼 반복\n",
    "    for i, (trn_idx, val_idx) in enumerate(skf.split(train_x, label)):\n",
    "        # train, valid split\n",
    "        x_train, y_train = train_x.iloc[trn_idx,:], label.iloc[trn_idx,]\n",
    "        x_valid, y_valid = train_x.iloc[val_idx,:], label.iloc[val_idx,]    \n",
    "\n",
    "        # preprocessing\n",
    "        x_train, x_valid, x_test = preprocess(x_train, x_valid, test)\n",
    "\n",
    "\n",
    "        # fitting\n",
    "        estm.fit(x_train, y_train,\n",
    "                 # sample_weight=y_train.map(weights),\n",
    "                  **fit_pm\n",
    "                 )\n",
    "\n",
    "        # log_loss check\n",
    "        trn_logloss = log_loss(y_train, estm.predict_proba(x_train))\n",
    "        val_logloss = log_loss(y_valid, estm.predict_proba(x_valid))\n",
    "        print('{} Fold, train logloss : {:.4f}4, validation logloss : {:.4f}'.format(i, trn_logloss, val_logloss))\n",
    "        \n",
    "        # 로그값 저장\n",
    "        val_scores.append(val_logloss)\n",
    "\n",
    "        # predict probability\n",
    "        oof_pred += estm.predict_proba(x_test) / n_splits\n",
    "\n",
    "        # train, valid scores 값 확인\n",
    "        train_pred = np.argmax(estm.predict_proba(x_train), axis=1)+1\n",
    "        valid_pred = np.argmax(estm.predict_proba(x_valid), axis=1)+1\n",
    "        train_scr = f1_score(y_train, train_pred,average='weighted')\n",
    "        valid_scr = f1_score(y_valid, valid_pred,average='weighted')\n",
    "        score_recode.append([train_scr, valid_scr])\n",
    "\n",
    "    print('Cross Validation Score: {:.4f}'.format(np.mean(val_scores)))\n",
    "    \n",
    "    return oof_pred, val_scores, score_recode\n"
   ]
  },
  {
   "cell_type": "code",
   "execution_count": null,
   "metadata": {},
   "outputs": [],
   "source": []
  },
  {
   "cell_type": "code",
   "execution_count": null,
   "metadata": {},
   "outputs": [],
   "source": []
  },
  {
   "cell_type": "code",
   "execution_count": 32,
   "metadata": {
    "scrolled": true,
    "tags": []
   },
   "outputs": [
    {
     "name": "stdout",
     "output_type": "stream",
     "text": [
      "Fitting 5 folds for each of 1 candidates, totalling 5 fits\n",
      "[CV 1/5; 1/1] START lambda_l1=50, learning_rate=0.05, max_depth=10, min_data_in_leaf=1000, n_estimators=5000, n_jobs=4, num_leaves=201, objective=multiclass, random_state=43\n",
      "[LightGBM] [Warning] min_data_in_leaf is set=1000, min_child_samples=20 will be ignored. Current value: min_data_in_leaf=1000\n",
      "[LightGBM] [Warning] lambda_l1 is set=50, reg_alpha=0.0 will be ignored. Current value: lambda_l1=50\n",
      "Training until validation scores don't improve for 500 rounds\n",
      "Early stopping, best iteration is:\n",
      "[456]\tvalid_0's multi_logloss: 0.156014\n",
      "[CV 1/5; 1/1] END lambda_l1=50, learning_rate=0.05, max_depth=10, min_data_in_leaf=1000, n_estimators=5000, n_jobs=4, num_leaves=201, objective=multiclass, random_state=43;, score=0.930 total time=  32.5s\n",
      "[CV 2/5; 1/1] START lambda_l1=50, learning_rate=0.05, max_depth=10, min_data_in_leaf=1000, n_estimators=5000, n_jobs=4, num_leaves=201, objective=multiclass, random_state=43\n",
      "[LightGBM] [Warning] min_data_in_leaf is set=1000, min_child_samples=20 will be ignored. Current value: min_data_in_leaf=1000\n",
      "[LightGBM] [Warning] lambda_l1 is set=50, reg_alpha=0.0 will be ignored. Current value: lambda_l1=50\n",
      "Early stopping, best iteration is:\n",
      "[2094]\tvalid_0's multi_logloss: 0.155844\n",
      "[CV 2/5; 1/1] END lambda_l1=50, learning_rate=0.05, max_depth=10, min_data_in_leaf=1000, n_estimators=5000, n_jobs=4, num_leaves=201, objective=multiclass, random_state=43;, score=0.929 total time= 1.2min\n",
      "[CV 3/5; 1/1] START lambda_l1=50, learning_rate=0.05, max_depth=10, min_data_in_leaf=1000, n_estimators=5000, n_jobs=4, num_leaves=201, objective=multiclass, random_state=43\n",
      "[LightGBM] [Warning] min_data_in_leaf is set=1000, min_child_samples=20 will be ignored. Current value: min_data_in_leaf=1000\n",
      "[LightGBM] [Warning] lambda_l1 is set=50, reg_alpha=0.0 will be ignored. Current value: lambda_l1=50\n",
      "Early stopping, best iteration is:\n",
      "[2094]\tvalid_0's multi_logloss: 0.155844\n",
      "[CV 3/5; 1/1] END lambda_l1=50, learning_rate=0.05, max_depth=10, min_data_in_leaf=1000, n_estimators=5000, n_jobs=4, num_leaves=201, objective=multiclass, random_state=43;, score=0.930 total time= 1.2min\n",
      "[CV 4/5; 1/1] START lambda_l1=50, learning_rate=0.05, max_depth=10, min_data_in_leaf=1000, n_estimators=5000, n_jobs=4, num_leaves=201, objective=multiclass, random_state=43\n",
      "[LightGBM] [Warning] min_data_in_leaf is set=1000, min_child_samples=20 will be ignored. Current value: min_data_in_leaf=1000\n",
      "[LightGBM] [Warning] lambda_l1 is set=50, reg_alpha=0.0 will be ignored. Current value: lambda_l1=50\n",
      "Early stopping, best iteration is:\n",
      "[2094]\tvalid_0's multi_logloss: 0.155844\n",
      "[CV 4/5; 1/1] END lambda_l1=50, learning_rate=0.05, max_depth=10, min_data_in_leaf=1000, n_estimators=5000, n_jobs=4, num_leaves=201, objective=multiclass, random_state=43;, score=0.929 total time= 1.2min\n",
      "[CV 5/5; 1/1] START lambda_l1=50, learning_rate=0.05, max_depth=10, min_data_in_leaf=1000, n_estimators=5000, n_jobs=4, num_leaves=201, objective=multiclass, random_state=43\n",
      "[LightGBM] [Warning] min_data_in_leaf is set=1000, min_child_samples=20 will be ignored. Current value: min_data_in_leaf=1000\n",
      "[LightGBM] [Warning] lambda_l1 is set=50, reg_alpha=0.0 will be ignored. Current value: lambda_l1=50\n",
      "Early stopping, best iteration is:\n",
      "[1106]\tvalid_0's multi_logloss: 0.155606\n",
      "[CV 5/5; 1/1] END lambda_l1=50, learning_rate=0.05, max_depth=10, min_data_in_leaf=1000, n_estimators=5000, n_jobs=4, num_leaves=201, objective=multiclass, random_state=43;, score=0.930 total time=  56.1s\n",
      "[LightGBM] [Warning] min_data_in_leaf is set=1000, min_child_samples=20 will be ignored. Current value: min_data_in_leaf=1000\n",
      "[LightGBM] [Warning] lambda_l1 is set=50, reg_alpha=0.0 will be ignored. Current value: lambda_l1=50\n",
      "Early stopping, best iteration is:\n",
      "[2269]\tvalid_0's multi_logloss: 0.153429\n",
      "Early stopping, best iteration is:\n",
      "[572]\tvalid_0's multi_logloss: 0.150466\n",
      "0 Fold, train logloss : 0.14504, validation logloss : 0.1544\n",
      "[LightGBM] [Warning] min_data_in_leaf is set=1000, min_child_samples=20 will be ignored. Current value: min_data_in_leaf=1000\n",
      "[LightGBM] [Warning] lambda_l1 is set=50, reg_alpha=0.0 will be ignored. Current value: lambda_l1=50\n",
      "Early stopping, best iteration is:\n",
      "[544]\tvalid_0's multi_logloss: 0.146321\n",
      "1 Fold, train logloss : 0.14544, validation logloss : 0.1532\n",
      "[LightGBM] [Warning] min_data_in_leaf is set=1000, min_child_samples=20 will be ignored. Current value: min_data_in_leaf=1000\n",
      "[LightGBM] [Warning] lambda_l1 is set=50, reg_alpha=0.0 will be ignored. Current value: lambda_l1=50\n",
      "Early stopping, best iteration is:\n",
      "[544]\tvalid_0's multi_logloss: 0.146321\n",
      "2 Fold, train logloss : 0.14514, validation logloss : 0.1535\n",
      "[LightGBM] [Warning] min_data_in_leaf is set=1000, min_child_samples=20 will be ignored. Current value: min_data_in_leaf=1000\n",
      "[LightGBM] [Warning] lambda_l1 is set=50, reg_alpha=0.0 will be ignored. Current value: lambda_l1=50\n",
      "Early stopping, best iteration is:\n",
      "[544]\tvalid_0's multi_logloss: 0.146321\n",
      "3 Fold, train logloss : 0.14514, validation logloss : 0.1537\n",
      "[LightGBM] [Warning] min_data_in_leaf is set=1000, min_child_samples=20 will be ignored. Current value: min_data_in_leaf=1000\n",
      "[LightGBM] [Warning] lambda_l1 is set=50, reg_alpha=0.0 will be ignored. Current value: lambda_l1=50\n",
      "Early stopping, best iteration is:\n",
      "[544]\tvalid_0's multi_logloss: 0.146321\n",
      "4 Fold, train logloss : 0.14544, validation logloss : 0.1529\n",
      "Cross Validation Score: 0.1536\n"
     ]
    }
   ],
   "source": [
    "# parameters \n",
    "callback = early_stopping(stopping_rounds=500)\n",
    "\n",
    "init_params = {\n",
    "    'objective':['multiclass'],\n",
    "    'learning_rate':[0.05],\n",
    "    'n_estimators': [5000],\n",
    "    'max_depth': [10], \n",
    "    'min_data_in_leaf': [1000], # minimal number of data in one leaf\n",
    "    'num_leaves': [201],\n",
    "    'lambda_l1':[50],\n",
    "    # 'verbosity':[10], # < 0: Fatal, = 0: Error (Warning), = 1(def): Info, > 1: Debug\n",
    "    'n_jobs':[4],\n",
    "    'random_state': [43]\n",
    "}\n",
    "\n",
    "fit_params = {\n",
    "    'callbacks':[callback],\n",
    "    'eval_metric':['logloss'],\n",
    "    'eval_set':[(x_valid, y_valid)]\n",
    "}\n",
    "\n",
    "\n",
    "# grid, b_estm = get_grid(init_params, fit_params)\n",
    "\n",
    "oof, loss, score = get_oof(LGBMClassifier(**init_params), fit_params)"
   ]
  },
  {
   "cell_type": "code",
   "execution_count": 33,
   "metadata": {},
   "outputs": [
    {
     "data": {
      "text/plain": [
       "(GridSearchCV(cv=5, estimator=LGBMClassifier(),\n",
       "              param_grid={'lambda_l1': [50], 'learning_rate': [0.05],\n",
       "                          'max_depth': [10], 'min_data_in_leaf': [1000],\n",
       "                          'n_estimators': [5000], 'n_jobs': [4],\n",
       "                          'num_leaves': [201], 'objective': ['multiclass'],\n",
       "                          'random_state': [43]},\n",
       "              scoring=make_scorer(f1_score, average=weighted), verbose=10),\n",
       " LGBMClassifier(lambda_l1=50, learning_rate=0.05, max_depth=10,\n",
       "                min_data_in_leaf=1000, n_estimators=5000, n_jobs=4,\n",
       "                num_leaves=201, objective='multiclass', random_state=43),\n",
       " defaultdict(collections.OrderedDict,\n",
       "             {'valid_0': OrderedDict([('multi_logloss',\n",
       "                            0.14632144092673854)])}),\n",
       " array([[9.89651874e-01, 9.91829389e-03, 3.77327167e-05, 3.92099573e-04],\n",
       "        [1.16160086e-04, 2.61301705e-02, 9.73706243e-01, 4.74265642e-05],\n",
       "        [4.21166434e-02, 1.27609287e-03, 4.42801182e-05, 9.56562984e-01],\n",
       "        ...,\n",
       "        [8.69020616e-05, 9.99484073e-01, 3.63325270e-04, 6.57000699e-05],\n",
       "        [2.73423865e-04, 9.99506239e-01, 1.68294928e-04, 5.20418370e-05],\n",
       "        [9.77742340e-03, 9.90029116e-01, 1.76992890e-05, 1.75761764e-04]]),\n",
       " [0.15444652887204888,\n",
       "  0.15321839518893862,\n",
       "  0.15353562679871885,\n",
       "  0.15370842100522855,\n",
       "  0.15290469390730385],\n",
       " [[0.9354595847621708, 0.9301824195828673],\n",
       "  [0.9353556763280079, 0.9308793437798797],\n",
       "  [0.9355963702250503, 0.9305022914529026],\n",
       "  [0.9356776800010951, 0.9304007168785253],\n",
       "  [0.9354790971062109, 0.9306458125488858]])"
      ]
     },
     "execution_count": 33,
     "metadata": {},
     "output_type": "execute_result"
    }
   ],
   "source": [
    "grid, b_estm, b_estm.best_score_, oof, loss, score"
   ]
  },
  {
   "cell_type": "code",
   "execution_count": 31,
   "metadata": {},
   "outputs": [
    {
     "data": {
      "text/plain": [
       "(GridSearchCV(cv=5, estimator=LGBMClassifier(),\n",
       "              param_grid={'lambda_l1': [100], 'learning_rate': [0.05],\n",
       "                          'max_depth': [10], 'min_data_in_leaf': [5000],\n",
       "                          'n_estimators': [10000], 'n_jobs': [4],\n",
       "                          'num_leaves': [101], 'objective': ['multiclass'],\n",
       "                          'random_state': [43]},\n",
       "              scoring=make_scorer(f1_score, average=weighted), verbose=10),\n",
       " LGBMClassifier(lambda_l1=100, learning_rate=0.05, max_depth=10,\n",
       "                min_data_in_leaf=5000, n_estimators=10000, n_jobs=4,\n",
       "                num_leaves=101, objective='multiclass', random_state=43),\n",
       " defaultdict(collections.OrderedDict,\n",
       "             {'valid_0': OrderedDict([('multi_logloss',\n",
       "                            0.1636227680435095)])}),\n",
       " array([[9.78171148e-01, 2.09155412e-02, 1.31369400e-04, 7.81941225e-04],\n",
       "        [2.09268557e-04, 2.91650506e-02, 9.70532307e-01, 9.33735090e-05],\n",
       "        [4.87322517e-02, 2.04393001e-03, 4.64248243e-05, 9.49177393e-01],\n",
       "        ...,\n",
       "        [1.53145836e-04, 9.98097647e-01, 1.61105323e-03, 1.38154050e-04],\n",
       "        [3.73448494e-04, 9.98862354e-01, 6.33185961e-04, 1.31011691e-04],\n",
       "        [1.94065370e-02, 9.80243499e-01, 8.03202969e-05, 2.69643999e-04]]),\n",
       " [0.16794875530035952,\n",
       "  0.16738834891426177,\n",
       "  0.1673398320535229,\n",
       "  0.16778401229963902,\n",
       "  0.16725633108730442],\n",
       " [[0.928580103311353, 0.9265986050305282],\n",
       "  [0.9283899905156475, 0.9264510799727397],\n",
       "  [0.9287327243597779, 0.9261290142784652],\n",
       "  [0.9285856717296147, 0.9261107637263444],\n",
       "  [0.9285174922157766, 0.9269736363516968]])"
      ]
     },
     "execution_count": 31,
     "metadata": {},
     "output_type": "execute_result"
    }
   ],
   "source": [
    "grid, b_estm, b_estm.best_score_, oof, loss, score"
   ]
  },
  {
   "cell_type": "code",
   "execution_count": null,
   "metadata": {},
   "outputs": [],
   "source": []
  },
  {
   "cell_type": "code",
   "execution_count": null,
   "metadata": {},
   "outputs": [],
   "source": []
  },
  {
   "cell_type": "code",
   "execution_count": null,
   "metadata": {},
   "outputs": [],
   "source": []
  },
  {
   "cell_type": "markdown",
   "metadata": {
    "tags": []
   },
   "source": [
    "# model run"
   ]
  },
  {
   "cell_type": "code",
   "execution_count": null,
   "metadata": {},
   "outputs": [],
   "source": [
    "model = LGBMClassifier()\n",
    "\n",
    "\n",
    "# parameters \n",
    "callback = early_stopping(stopping_rounds=500)\n",
    "\n",
    "# values should be list form\n",
    "init_params = {\n",
    "    'objective':['multiclass'],\n",
    "    'learning_rate':[0.05],\n",
    "    'n_estimators': [5000],\n",
    "    'max_depth': [10, 15, 20], \n",
    "    'min_data_in_leaf': [100, 500], # minimal number of data in one leaf\n",
    "    'num_leaves': [81, 101, 131],\n",
    "    'lambda_l1':[50],\n",
    "    # 'verbosity':[10], # < 0: Fatal, = 0: Error (Warning), = 1(def): Info, > 1: Debug\n",
    "    'n_jobs':[4],\n",
    "    'random_state': [43]\n",
    "}\n",
    "\n",
    "fit_params = {\n",
    "    'callbacks':[callback],\n",
    "    'eval_metric':['logloss'],\n",
    "    'eval_set':[(x_valid, y_valid)]\n",
    "}\n",
    "\n",
    "\n",
    "grid, b_estm = get_grid(init_params, fit_params)\n",
    "\n",
    "oof, loss, score = get_oof(b_estm, fit_params)"
   ]
  },
  {
   "cell_type": "code",
   "execution_count": null,
   "metadata": {},
   "outputs": [],
   "source": []
  },
  {
   "cell_type": "code",
   "execution_count": null,
   "metadata": {},
   "outputs": [],
   "source": []
  },
  {
   "cell_type": "code",
   "execution_count": 29,
   "metadata": {
    "tags": []
   },
   "outputs": [
    {
     "name": "stdout",
     "output_type": "stream",
     "text": [
      "[LightGBM] [Warning] min_data_in_leaf is set=1000, min_child_samples=20 will be ignored. Current value: min_data_in_leaf=1000\n",
      "[LightGBM] [Warning] lambda_l1 is set=50, reg_alpha=0.0 will be ignored. Current value: lambda_l1=50\n",
      "Training until validation scores don't improve for 500 rounds\n",
      "Early stopping, best iteration is:\n",
      "[552]\tvalid_0's multi_logloss: 0.151019\n",
      "0 Fold, train logloss : 0.14584, validation logloss : 0.1546\n",
      "[LightGBM] [Warning] min_data_in_leaf is set=1000, min_child_samples=20 will be ignored. Current value: min_data_in_leaf=1000\n",
      "[LightGBM] [Warning] lambda_l1 is set=50, reg_alpha=0.0 will be ignored. Current value: lambda_l1=50\n",
      "Early stopping, best iteration is:\n",
      "[578]\tvalid_0's multi_logloss: 0.146746\n",
      "1 Fold, train logloss : 0.14604, validation logloss : 0.1532\n",
      "[LightGBM] [Warning] min_data_in_leaf is set=1000, min_child_samples=20 will be ignored. Current value: min_data_in_leaf=1000\n",
      "[LightGBM] [Warning] lambda_l1 is set=50, reg_alpha=0.0 will be ignored. Current value: lambda_l1=50\n",
      "Early stopping, best iteration is:\n",
      "[578]\tvalid_0's multi_logloss: 0.146746\n",
      "2 Fold, train logloss : 0.14584, validation logloss : 0.1537\n",
      "[LightGBM] [Warning] min_data_in_leaf is set=1000, min_child_samples=20 will be ignored. Current value: min_data_in_leaf=1000\n",
      "[LightGBM] [Warning] lambda_l1 is set=50, reg_alpha=0.0 will be ignored. Current value: lambda_l1=50\n",
      "Early stopping, best iteration is:\n",
      "[578]\tvalid_0's multi_logloss: 0.146746\n",
      "3 Fold, train logloss : 0.14614, validation logloss : 0.1541\n",
      "[LightGBM] [Warning] min_data_in_leaf is set=1000, min_child_samples=20 will be ignored. Current value: min_data_in_leaf=1000\n",
      "[LightGBM] [Warning] lambda_l1 is set=50, reg_alpha=0.0 will be ignored. Current value: lambda_l1=50\n",
      "Early stopping, best iteration is:\n",
      "[578]\tvalid_0's multi_logloss: 0.146746\n",
      "4 Fold, train logloss : 0.14624, validation logloss : 0.1530\n",
      "Cross Validation Score: 0.1537\n"
     ]
    }
   ],
   "source": [
    "# parameters \n",
    "callback = early_stopping(stopping_rounds=500)\n",
    "\n",
    "# init_params = {\n",
    "#     'objective':['multiclass'],\n",
    "#     'learning_rate':[0.05],\n",
    "#     'n_estimators': [5000],\n",
    "#     'max_depth': [10], \n",
    "#     'min_data_in_leaf': [1000], # minimal number of data in one leaf\n",
    "#     'num_leaves': [81],\n",
    "#     'lambda_l1':[50],\n",
    "#     # 'verbosity':[10], # < 0: Fatal, = 0: Error (Warning), = 1(def): Info, > 1: Debug\n",
    "#     'n_jobs':[4],\n",
    "#     'random_state': [43]\n",
    "# }\n",
    "\n",
    "init_params = {\n",
    "    'objective':'multiclass',\n",
    "    'learning_rate':0.05,\n",
    "    'n_estimators': 5000,\n",
    "    'max_depth': 10,\n",
    "    'min_data_in_leaf': 1000, # minimal number of data in one leaf\n",
    "    'num_leaves': 51,\n",
    "    'lambda_l1':50,\n",
    "    'num_class':4,\n",
    "    # 'verbosity':[10], # < 0: Fatal, = 0: Error (Warning), = 1(def): Info, > 1: Debug\n",
    "    'n_jobs':4,\n",
    "    'random_state':43\n",
    "}\n",
    "\n",
    "fit_params = {\n",
    "    'callbacks':[callback],\n",
    "    'eval_metric':['logloss'],\n",
    "    'eval_set':[(x_valid, y_valid)]\n",
    "}\n",
    "\n",
    "\n",
    "# grid, b_estm = get_grid(init_params, fit_params)\n",
    "\n",
    "oof, loss, score = get_oof(LGBMClassifier(**init_params), fit_params)"
   ]
  },
  {
   "cell_type": "code",
   "execution_count": 30,
   "metadata": {},
   "outputs": [
    {
     "data": {
      "text/plain": [
       "(array([[9.89200879e-01, 1.03326112e-02, 4.15342003e-05, 4.24975213e-04],\n",
       "        [1.09990732e-04, 2.39159802e-02, 9.75928012e-01, 4.60171467e-05],\n",
       "        [4.01175555e-02, 1.38109266e-03, 4.22393654e-05, 9.58459112e-01],\n",
       "        ...,\n",
       "        [1.02675696e-04, 9.99337582e-01, 4.82867852e-04, 7.68745625e-05],\n",
       "        [2.35895768e-04, 9.99550482e-01, 1.61767606e-04, 5.18547481e-05],\n",
       "        [1.13942523e-02, 9.88441857e-01, 1.84499087e-05, 1.45441060e-04]]),\n",
       " [0.1546207971125334,\n",
       "  0.15324790047421363,\n",
       "  0.15369530132122614,\n",
       "  0.1540954784884517,\n",
       "  0.1530081074019602],\n",
       " [[0.9351974182390224, 0.9302838197573791],\n",
       "  [0.9349632421033951, 0.9311212822155354],\n",
       "  [0.9352490456937509, 0.9302711589535688],\n",
       "  [0.9352222888722052, 0.9302113060741568],\n",
       "  [0.9349315106816865, 0.9308896365840881]])"
      ]
     },
     "execution_count": 30,
     "metadata": {},
     "output_type": "execute_result"
    }
   ],
   "source": [
    "# grid, b_estm, b_estm.best_score_, \n",
    "oof, loss, score"
   ]
  },
  {
   "cell_type": "code",
   "execution_count": null,
   "metadata": {},
   "outputs": [],
   "source": []
  },
  {
   "cell_type": "code",
   "execution_count": null,
   "metadata": {},
   "outputs": [],
   "source": []
  },
  {
   "cell_type": "code",
   "execution_count": null,
   "metadata": {},
   "outputs": [],
   "source": []
  },
  {
   "cell_type": "code",
   "execution_count": 31,
   "metadata": {
    "tags": []
   },
   "outputs": [
    {
     "name": "stdout",
     "output_type": "stream",
     "text": [
      "[LightGBM] [Warning] min_data_in_leaf is set=800, min_child_samples=20 will be ignored. Current value: min_data_in_leaf=800\n",
      "[LightGBM] [Warning] lambda_l1 is set=50, reg_alpha=0.0 will be ignored. Current value: lambda_l1=50\n",
      "Training until validation scores don't improve for 500 rounds\n",
      "Early stopping, best iteration is:\n",
      "[1094]\tvalid_0's multi_logloss: 0.150607\n",
      "0 Fold, train logloss : 0.14534, validation logloss : 0.1545\n",
      "[LightGBM] [Warning] min_data_in_leaf is set=800, min_child_samples=20 will be ignored. Current value: min_data_in_leaf=800\n",
      "[LightGBM] [Warning] lambda_l1 is set=50, reg_alpha=0.0 will be ignored. Current value: lambda_l1=50\n",
      "Early stopping, best iteration is:\n",
      "[1021]\tvalid_0's multi_logloss: 0.146643\n",
      "1 Fold, train logloss : 0.14584, validation logloss : 0.1534\n",
      "[LightGBM] [Warning] min_data_in_leaf is set=800, min_child_samples=20 will be ignored. Current value: min_data_in_leaf=800\n",
      "[LightGBM] [Warning] lambda_l1 is set=50, reg_alpha=0.0 will be ignored. Current value: lambda_l1=50\n",
      "Early stopping, best iteration is:\n",
      "[1021]\tvalid_0's multi_logloss: 0.146643\n",
      "2 Fold, train logloss : 0.14524, validation logloss : 0.1535\n",
      "[LightGBM] [Warning] min_data_in_leaf is set=800, min_child_samples=20 will be ignored. Current value: min_data_in_leaf=800\n",
      "[LightGBM] [Warning] lambda_l1 is set=50, reg_alpha=0.0 will be ignored. Current value: lambda_l1=50\n",
      "Early stopping, best iteration is:\n",
      "[1021]\tvalid_0's multi_logloss: 0.146643\n",
      "3 Fold, train logloss : 0.14554, validation logloss : 0.1541\n",
      "[LightGBM] [Warning] min_data_in_leaf is set=800, min_child_samples=20 will be ignored. Current value: min_data_in_leaf=800\n",
      "[LightGBM] [Warning] lambda_l1 is set=50, reg_alpha=0.0 will be ignored. Current value: lambda_l1=50\n",
      "Early stopping, best iteration is:\n",
      "[1947]\tvalid_0's multi_logloss: 0.146493\n",
      "4 Fold, train logloss : 0.14544, validation logloss : 0.1529\n",
      "Cross Validation Score: 0.1537\n"
     ]
    }
   ],
   "source": [
    "# parameters \n",
    "callback = early_stopping(stopping_rounds=500)\n",
    "\n",
    "# init_params = {\n",
    "#     'objective':['multiclass'],\n",
    "#     'learning_rate':[0.05],\n",
    "#     'n_estimators': [5000],\n",
    "#     'max_depth': [10], \n",
    "#     'min_data_in_leaf': [1000], # minimal number of data in one leaf\n",
    "#     'num_leaves': [81],\n",
    "#     'lambda_l1':[50],\n",
    "#     # 'verbosity':[10], # < 0: Fatal, = 0: Error (Warning), = 1(def): Info, > 1: Debug\n",
    "#     'n_jobs':[4],\n",
    "#     'random_state': [43]\n",
    "# }\n",
    "\n",
    "init_params = {\n",
    "    'objective':'multiclass',\n",
    "    'learning_rate':0.05,\n",
    "    'n_estimators': 5000,\n",
    "    'max_depth': -1,\n",
    "    'min_data_in_leaf': 800, # minimal number of data in one leaf\n",
    "    'num_leaves': 51,\n",
    "    'lambda_l1':50,\n",
    "    'num_class':4,\n",
    "    # 'verbosity':[10], # < 0: Fatal, = 0: Error (Warning), = 1(def): Info, > 1: Debug\n",
    "    'n_jobs':4,\n",
    "    'random_state':43\n",
    "}\n",
    "\n",
    "fit_params = {\n",
    "    'callbacks':[callback],\n",
    "    'eval_metric':['logloss'],\n",
    "    'eval_set':[(x_valid, y_valid)]\n",
    "}\n",
    "\n",
    "\n",
    "# grid, b_estm = get_grid(init_params, fit_params)\n",
    "\n",
    "oof, loss, score = get_oof(LGBMClassifier(**init_params), fit_params)"
   ]
  },
  {
   "cell_type": "code",
   "execution_count": 32,
   "metadata": {},
   "outputs": [
    {
     "data": {
      "text/plain": [
       "(array([[9.89314268e-01, 1.02081683e-02, 4.03729054e-05, 4.37190654e-04],\n",
       "        [1.34289854e-04, 2.37753089e-02, 9.76030642e-01, 5.97593562e-05],\n",
       "        [3.40361321e-02, 8.97216855e-04, 3.20802178e-05, 9.65034571e-01],\n",
       "        ...,\n",
       "        [1.19377422e-04, 9.99265023e-01, 5.42964127e-04, 7.26359222e-05],\n",
       "        [2.57049393e-04, 9.99549267e-01, 1.44785520e-04, 4.88984853e-05],\n",
       "        [1.26411295e-02, 9.87198709e-01, 1.88421264e-05, 1.41319007e-04]]),\n",
       " [0.15450204649910432,\n",
       "  0.15339526219923666,\n",
       "  0.15349773551625473,\n",
       "  0.15405738210545167,\n",
       "  0.15290421485202627],\n",
       " [[0.9355088192415352, 0.930335374988911],\n",
       "  [0.9350570589471765, 0.9310750002241721],\n",
       "  [0.9356989545727552, 0.9303291417918841],\n",
       "  [0.935579333263243, 0.9303909389907282],\n",
       "  [0.9354817658279334, 0.9308133208416206]])"
      ]
     },
     "execution_count": 32,
     "metadata": {},
     "output_type": "execute_result"
    }
   ],
   "source": [
    "# grid, b_estm, b_estm.best_score_, \n",
    "oof, loss, score"
   ]
  },
  {
   "cell_type": "code",
   "execution_count": null,
   "metadata": {},
   "outputs": [],
   "source": []
  },
  {
   "cell_type": "code",
   "execution_count": null,
   "metadata": {},
   "outputs": [],
   "source": []
  },
  {
   "cell_type": "code",
   "execution_count": null,
   "metadata": {},
   "outputs": [],
   "source": []
  },
  {
   "cell_type": "code",
   "execution_count": null,
   "metadata": {},
   "outputs": [],
   "source": []
  },
  {
   "cell_type": "code",
   "execution_count": 38,
   "metadata": {},
   "outputs": [
    {
     "data": {
      "text/plain": [
       "(array([[9.93433380e-01, 6.28664604e-03, 1.61363250e-05, 2.63837320e-04],\n",
       "        [6.53727684e-05, 2.57607850e-02, 9.74144311e-01, 2.95314924e-05],\n",
       "        [3.26924531e-02, 6.13193457e-04, 2.87061700e-05, 9.66665647e-01],\n",
       "        ...,\n",
       "        [7.93294948e-05, 9.99633350e-01, 2.53195494e-04, 3.41245807e-05],\n",
       "        [1.46614128e-04, 9.99750501e-01, 8.25044274e-05, 2.03803964e-05],\n",
       "        [6.80821596e-03, 9.93070992e-01, 8.29004064e-06, 1.12502028e-04]]),\n",
       " [0.1513868065045722,\n",
       "  0.14974556347144885,\n",
       "  0.15028390129088923,\n",
       "  0.15070749956593577,\n",
       "  0.14963377806147252],\n",
       " [[0.9438285543858275, 0.9310622573163514],\n",
       "  [0.9438339248279066, 0.9319115796037947],\n",
       "  [0.9441976547440037, 0.9313126604292392],\n",
       "  [0.9442967055694087, 0.9309689032626203],\n",
       "  [0.9438492760578924, 0.9314186637134794]])"
      ]
     },
     "execution_count": 38,
     "metadata": {},
     "output_type": "execute_result"
    }
   ],
   "source": [
    "# grid, b_estm, b_estm.best_score_, \n",
    "oof, loss, score"
   ]
  },
  {
   "cell_type": "code",
   "execution_count": null,
   "metadata": {},
   "outputs": [],
   "source": []
  },
  {
   "cell_type": "code",
   "execution_count": null,
   "metadata": {},
   "outputs": [],
   "source": []
  },
  {
   "cell_type": "code",
   "execution_count": 39,
   "metadata": {
    "tags": []
   },
   "outputs": [
    {
     "name": "stdout",
     "output_type": "stream",
     "text": [
      "[LightGBM] [Warning] min_data_in_leaf is set=100, min_child_samples=20 will be ignored. Current value: min_data_in_leaf=100\n",
      "[LightGBM] [Warning] lambda_l1 is set=30, reg_alpha=0.0 will be ignored. Current value: lambda_l1=30\n",
      "Training until validation scores don't improve for 500 rounds\n",
      "Early stopping, best iteration is:\n",
      "[1190]\tvalid_0's multi_logloss: 0.143611\n",
      "0 Fold, train logloss : 0.13614, validation logloss : 0.1515\n",
      "[LightGBM] [Warning] min_data_in_leaf is set=100, min_child_samples=20 will be ignored. Current value: min_data_in_leaf=100\n",
      "[LightGBM] [Warning] lambda_l1 is set=30, reg_alpha=0.0 will be ignored. Current value: lambda_l1=30\n",
      "Early stopping, best iteration is:\n",
      "[723]\tvalid_0's multi_logloss: 0.139064\n",
      "1 Fold, train logloss : 0.13674, validation logloss : 0.1502\n",
      "[LightGBM] [Warning] min_data_in_leaf is set=100, min_child_samples=20 will be ignored. Current value: min_data_in_leaf=100\n",
      "[LightGBM] [Warning] lambda_l1 is set=30, reg_alpha=0.0 will be ignored. Current value: lambda_l1=30\n",
      "Early stopping, best iteration is:\n",
      "[723]\tvalid_0's multi_logloss: 0.139064\n",
      "2 Fold, train logloss : 0.13634, validation logloss : 0.1505\n",
      "[LightGBM] [Warning] min_data_in_leaf is set=100, min_child_samples=20 will be ignored. Current value: min_data_in_leaf=100\n",
      "[LightGBM] [Warning] lambda_l1 is set=30, reg_alpha=0.0 will be ignored. Current value: lambda_l1=30\n",
      "Early stopping, best iteration is:\n",
      "[723]\tvalid_0's multi_logloss: 0.139064\n",
      "3 Fold, train logloss : 0.13644, validation logloss : 0.1508\n",
      "[LightGBM] [Warning] min_data_in_leaf is set=100, min_child_samples=20 will be ignored. Current value: min_data_in_leaf=100\n",
      "[LightGBM] [Warning] lambda_l1 is set=30, reg_alpha=0.0 will be ignored. Current value: lambda_l1=30\n",
      "Early stopping, best iteration is:\n",
      "[767]\tvalid_0's multi_logloss: 0.139027\n",
      "4 Fold, train logloss : 0.13624, validation logloss : 0.1496\n",
      "Cross Validation Score: 0.1505\n"
     ]
    }
   ],
   "source": [
    "# parameters \n",
    "callback = early_stopping(stopping_rounds=500)\n",
    "\n",
    "# init_params = {\n",
    "#     'objective':['multiclass'],\n",
    "#     'learning_rate':[0.05],\n",
    "#     'n_estimators': [5000],\n",
    "#     'max_depth': [10], \n",
    "#     'min_data_in_leaf': [1000], # minimal number of data in one leaf\n",
    "#     'num_leaves': [81],\n",
    "#     'lambda_l1':[50],\n",
    "#     # 'verbosity':[10], # < 0: Fatal, = 0: Error (Warning), = 1(def): Info, > 1: Debug\n",
    "#     'n_jobs':[4],\n",
    "#     'random_state': [43]\n",
    "# }\n",
    "\n",
    "init_params = {\n",
    "    'objective':'multiclass',\n",
    "    'learning_rate':0.05,\n",
    "    'n_estimators': 5000,\n",
    "    'max_depth': -1,\n",
    "    'min_data_in_leaf': 100, # minimal number of data in one leaf\n",
    "    'num_leaves': 51,\n",
    "    'lambda_l1':30,\n",
    "    'num_class':4,\n",
    "    # 'verbosity':[10], # < 0: Fatal, = 0: Error (Warning), = 1(def): Info, > 1: Debug\n",
    "    'n_jobs':4,\n",
    "    'random_state':43\n",
    "}\n",
    "\n",
    "fit_params = {\n",
    "    'callbacks':[callback],\n",
    "    'eval_metric':['logloss'],\n",
    "    'eval_set':[(x_valid, y_valid)]\n",
    "}\n",
    "\n",
    "\n",
    "# grid, b_estm = get_grid(init_params, fit_params)\n",
    "\n",
    "oof, loss, score = get_oof(LGBMClassifier(**init_params), fit_params)"
   ]
  },
  {
   "cell_type": "code",
   "execution_count": 40,
   "metadata": {},
   "outputs": [
    {
     "data": {
      "text/plain": [
       "(array([[9.93168876e-01, 6.49576409e-03, 1.56726375e-05, 3.19687241e-04],\n",
       "        [4.03278185e-05, 2.51605322e-02, 9.74771295e-01, 2.78454080e-05],\n",
       "        [3.81808501e-02, 4.74352438e-04, 1.19803701e-05, 9.61332817e-01],\n",
       "        ...,\n",
       "        [8.21999512e-05, 9.99455814e-01, 4.18892187e-04, 4.30940427e-05],\n",
       "        [1.85985192e-04, 9.99687417e-01, 1.01438763e-04, 2.51590231e-05],\n",
       "        [8.84211751e-03, 9.91015840e-01, 9.74695407e-06, 1.32295593e-04]]),\n",
       " [0.15146014462024396,\n",
       "  0.15018308363821656,\n",
       "  0.15047792567632431,\n",
       "  0.15079272202100907,\n",
       "  0.14956720457725414],\n",
       " [[0.9400364306716827, 0.9310358140756003],\n",
       "  [0.9398178803723501, 0.9318833463870753],\n",
       "  [0.9402218078580742, 0.9314079397997451],\n",
       "  [0.9402920783249726, 0.9310982807172702],\n",
       "  [0.9402316158231978, 0.9317752544046022]])"
      ]
     },
     "execution_count": 40,
     "metadata": {},
     "output_type": "execute_result"
    }
   ],
   "source": [
    "# grid, b_estm, b_estm.best_score_, \n",
    "oof, loss, score"
   ]
  },
  {
   "cell_type": "code",
   "execution_count": null,
   "metadata": {},
   "outputs": [],
   "source": []
  },
  {
   "cell_type": "code",
   "execution_count": null,
   "metadata": {},
   "outputs": [],
   "source": []
  },
  {
   "cell_type": "code",
   "execution_count": null,
   "metadata": {},
   "outputs": [],
   "source": []
  },
  {
   "cell_type": "code",
   "execution_count": null,
   "metadata": {},
   "outputs": [],
   "source": []
  },
  {
   "cell_type": "markdown",
   "metadata": {},
   "source": [
    "# test result to_csv"
   ]
  },
  {
   "cell_type": "code",
   "execution_count": 87,
   "metadata": {},
   "outputs": [
    {
     "data": {
      "text/plain": [
       "defaultdict(collections.OrderedDict,\n",
       "            {'valid_0': OrderedDict([('multi_logloss', 0.15142010621472562)])})"
      ]
     },
     "execution_count": 87,
     "metadata": {},
     "output_type": "execute_result"
    }
   ],
   "source": [
    "model.best_score_"
   ]
  },
  {
   "cell_type": "code",
   "execution_count": 102,
   "metadata": {},
   "outputs": [
    {
     "data": {
      "text/plain": [
       "array([1, 3, 4, ..., 2, 2, 2])"
      ]
     },
     "execution_count": 102,
     "metadata": {},
     "output_type": "execute_result"
    }
   ],
   "source": [
    "np.argmax(oof_pred, axis=1)+1"
   ]
  },
  {
   "cell_type": "code",
   "execution_count": 57,
   "metadata": {
    "executionInfo": {
     "elapsed": 1432,
     "status": "ok",
     "timestamp": 1642305386168,
     "user": {
      "displayName": "Jiyoon Kim",
      "photoUrl": "https://lh3.googleusercontent.com/a/default-user=s64",
      "userId": "16007402657412234118"
     },
     "user_tz": -540
    },
    "id": "9uWrm4pqkOp9"
   },
   "outputs": [],
   "source": [
    "sub_path = os.path.join(BASE_DIR, 'data', 'sample_submission.csv')\n",
    "\n",
    "\n",
    "cover_type = np.argmax(oof_pred, axis=1)+1\n",
    "\n",
    "submit = pd.read_csv(sub_path)\n",
    "submit['Cover_Type'] = cover_type\n",
    "#  submit\n",
    "\n",
    "submit.to_csv(os.path.join(BASE_DIR, 'data','submission_jy_2.csv'), index=False)\n"
   ]
  },
  {
   "cell_type": "code",
   "execution_count": 24,
   "metadata": {
    "executionInfo": {
     "elapsed": 8,
     "status": "ok",
     "timestamp": 1642305387799,
     "user": {
      "displayName": "Jiyoon Kim",
      "photoUrl": "https://lh3.googleusercontent.com/a/default-user=s64",
      "userId": "16007402657412234118"
     },
     "user_tz": -540
    },
    "id": "F904K00J_3yW"
   },
   "outputs": [],
   "source": []
  }
 ],
 "metadata": {
  "accelerator": "GPU",
  "colab": {
   "collapsed_sections": [],
   "name": "preprocessing_oof_first.ipynb",
   "version": ""
  },
  "kernelspec": {
   "display_name": "Python 3 (ipykernel)",
   "language": "python",
   "name": "python3"
  },
  "language_info": {
   "codemirror_mode": {
    "name": "ipython",
    "version": 3
   },
   "file_extension": ".py",
   "mimetype": "text/x-python",
   "name": "python",
   "nbconvert_exporter": "python",
   "pygments_lexer": "ipython3",
   "version": "3.7.11"
  }
 },
 "nbformat": 4,
 "nbformat_minor": 4
}
